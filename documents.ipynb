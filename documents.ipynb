{
 "cells": [
  {
   "cell_type": "code",
   "execution_count": 1,
   "id": "8a77619a",
   "metadata": {},
   "outputs": [],
   "source": [
    "from IPython.display import clear_output\n",
    "def displayboard(board):\n",
    "    clear_output()\n",
    "    print(board[7]+\"|\"+board[8]+\"|\"+board[9])\n",
    "    print(board[4]+\"|\"+board[5]+\"|\"+board[6])\n",
    "    print(board[1]+\"|\"+board[2]+\"|\"+board[3])"
   ]
  },
  {
   "cell_type": "code",
   "execution_count": 2,
   "id": "880ab840",
   "metadata": {},
   "outputs": [
    {
     "name": "stdout",
     "output_type": "stream",
     "text": [
      "x|o|o\n",
      "x|o|o\n",
      "x|x|o\n"
     ]
    }
   ],
   "source": [
    "testboard=['#','x','x','o','x','o','o','x','o','o']\n",
    "displayboard(testboard)"
   ]
  },
  {
   "cell_type": "code",
   "execution_count": 3,
   "id": "c3c348cf",
   "metadata": {},
   "outputs": [],
   "source": [
    "def playerchoice():\n",
    "    \n",
    "    choice=''\n",
    "    while choice!='o' and choice!='x':\n",
    "        \n",
    "        choice=input(\"player 1 please make a choice ,x or o :\")\n",
    "    player1=choice\n",
    "    if player1=='o':\n",
    "        \n",
    "        \n",
    "            \n",
    "        player2='x'\n",
    "    else:\n",
    "        player2='o'\n",
    "    return (player1,player2) "
   ]
  },
  {
   "cell_type": "code",
   "execution_count": 4,
   "id": "b9ec4838",
   "metadata": {},
   "outputs": [],
   "source": [
    "def placemarker(board,choice,position):\n",
    "    board[position]=choice"
   ]
  },
  {
   "cell_type": "code",
   "execution_count": 5,
   "id": "c5d2f743",
   "metadata": {},
   "outputs": [],
   "source": [
    "def win_check(board,choice):\n",
    "    \n",
    "    return ((board[7] == choice and board[8] == choice and board[9] == choice) or # across the top\n",
    "    (board[4] == choice and board[5] == choice and board[6] == choice) or # across the middle\n",
    "    (board[1] == choice and board[2] == choice and board[3] == choice) or # across the bottom\n",
    "    (board[7] == choice and board[4] == choice and board[1] == choice) or # down the middle\n",
    "    (board[8] == choice and board[5] == choice and board[2] == choice) or # down the middle\n",
    "    (board[9] == choice and board[6] == choice and board[3] == choice) or # down the right side\n",
    "    (board[7] == choice and board[5] == choice and board[3] == choice) or # diagonal\n",
    "    (board[9] == choice and board[5] == choice and board[1] == choice)) # diagonal"
   ]
  },
  {
   "cell_type": "code",
   "execution_count": 6,
   "id": "91b21d80",
   "metadata": {},
   "outputs": [],
   "source": [
    "import random\n",
    "def checkfirst():\n",
    "    flip=random.randint(0,1)\n",
    "    if flip==0:\n",
    "        return 'player 1'\n",
    "    else:\n",
    "        return 'player 2'\n",
    "    "
   ]
  },
  {
   "cell_type": "code",
   "execution_count": 7,
   "id": "c2140acd",
   "metadata": {},
   "outputs": [],
   "source": [
    "def spacecheck(board,position):\n",
    "    return board[position]==' '\n",
    "        "
   ]
  },
  {
   "cell_type": "code",
   "execution_count": 8,
   "id": "1c514b22",
   "metadata": {},
   "outputs": [],
   "source": [
    "def fullboard(board):\n",
    "    for i in range(1,10):\n",
    "        if spacecheck(board,i):\n",
    "            \n",
    "            return False\n",
    "    return True     "
   ]
  },
  {
   "cell_type": "code",
   "execution_count": 9,
   "id": "49e1df15",
   "metadata": {},
   "outputs": [],
   "source": [
    "def player_choice(board):\n",
    "    position=0\n",
    "    while position not in [1,2,3,4,5,6,7,8,9] or not spacecheck(board,position):\n",
    "        position=int(input(\"enter the position you want to place marker:\"))\n",
    "    return position"
   ]
  },
  {
   "cell_type": "code",
   "execution_count": 10,
   "id": "6ff83a07",
   "metadata": {},
   "outputs": [],
   "source": [
    "def replay():\n",
    "    userchoice=input(\"do you want to play again? yes or no\")\n",
    "    return userchoice=='yes'"
   ]
  },
  {
   "cell_type": "code",
   "execution_count": null,
   "id": "beb56785",
   "metadata": {},
   "outputs": [
    {
     "name": "stdout",
     "output_type": "stream",
     "text": [
      "o| |x\n",
      "o|o|x\n",
      "x| | \n",
      "enter the position you want to place marker:3\n",
      "player 1 wins!!!\n"
     ]
    }
   ],
   "source": [
    "print(\"welcome to TIC-TOE game!!\")\n",
    "while True:\n",
    "    \n",
    "    \n",
    "#boardsetting\n",
    "    the_board=[' ']*10\n",
    "    (player1_marker,player2_marker)=playerchoice()\n",
    "    turn = checkfirst()\n",
    "    print(turn+ '\\t has to play!')\n",
    "    choice1=input(\"do you want to start playing? y or n\")\n",
    "    if choice1=='y':\n",
    "        game_on=True\n",
    "    else:\n",
    "        game_on=False\n",
    "    #gameplay\n",
    "    while game_on: \n",
    "        if turn=='player 1':\n",
    "            #player1 gameplay\n",
    "            displayboard(the_board)\n",
    "            position=player_choice(the_board)\n",
    "            placemarker(the_board,player1_marker,position)\n",
    "            #win\n",
    "            if win_check(the_board,player1_marker)==True:\n",
    "                print(\"player 1 wins!!!\")\n",
    "                game_on=False\n",
    "            else:\n",
    "                \n",
    "                if fullboard(the_board)==True:\n",
    "                    print(\"It is a tie game well played both!!\")\n",
    "                    break\n",
    "                    \n",
    "                \n",
    "             \n",
    "                \n",
    "              \n",
    "                else:\n",
    "                    \n",
    "                    \n",
    "                    turn='player 2'\n",
    "        else:\n",
    "            displayboard(the_board)\n",
    "            position=player_choice(the_board)\n",
    "            placemarker(the_board,player2_marker,position)\n",
    "            #win\n",
    "            if win_check(the_board,player2_marker)==True:\n",
    "                print(\"player 2 wins!!!\")\n",
    "                game_on=False\n",
    "            else:\n",
    "                \n",
    "                \n",
    "                if fullboard(the_board)==True:\n",
    "                    print(\"It is a tie game well played both!!\")\n",
    "                    break\n",
    "                    \n",
    "                \n",
    "             \n",
    "                \n",
    "              \n",
    "                else:\n",
    "                    \n",
    "                    \n",
    "                    turn='player 1'\n",
    "            \n",
    "            \n",
    "    if not replay():\n",
    "        break"
   ]
  },
  {
   "cell_type": "code",
   "execution_count": null,
   "id": "712fdcbe",
   "metadata": {},
   "outputs": [],
   "source": []
  }
 ],
 "metadata": {
  "kernelspec": {
   "display_name": "Python 3 (ipykernel)",
   "language": "python",
   "name": "python3"
  },
  "language_info": {
   "codemirror_mode": {
    "name": "ipython",
    "version": 3
   },
   "file_extension": ".py",
   "mimetype": "text/x-python",
   "name": "python",
   "nbconvert_exporter": "python",
   "pygments_lexer": "ipython3",
   "version": "3.11.4"
  }
 },
 "nbformat": 4,
 "nbformat_minor": 5
}
